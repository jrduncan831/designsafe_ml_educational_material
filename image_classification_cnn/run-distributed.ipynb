{
 "cells": [
  {
   "cell_type": "code",
   "execution_count": 1,
   "id": "5feb6563",
   "metadata": {},
   "outputs": [
    {
     "name": "stdout",
     "output_type": "stream",
     "text": [
      "/bin/bash: warning: setlocale: LC_ALL: cannot change locale (en_US.UTF-8)\n",
      "Train set size: 1322, Validation set size: 363\n",
      "\n",
      "(Epoch 1/10) Time: 56s\n",
      "(Epoch 1/10) Average train loss: 0.029974754533984443, Average train accuracy: 0.4215908944606781\n",
      "(Epoch 1/10) Val loss: 0.05551145598292351, Val accuracy: 0.3346590995788574\n",
      "(Epoch 1/10) Current best val acc: 0.8045454621315002\n",
      "\n",
      "\n",
      "(Epoch 2/10) Time: 51s\n",
      "(Epoch 2/10) Average train loss: 0.03000468376007947, Average train accuracy: 0.46204549074172974\n",
      "(Epoch 2/10) Val loss: 0.05280297249555588, Val accuracy: 0.5886363983154297\n",
      "(Epoch 2/10) Current best val acc: 0.8045454621315002\n",
      "\n",
      "\n",
      "(Epoch 3/10) Time: 49s\n",
      "(Epoch 3/10) Average train loss: 0.02827767380259254, Average train accuracy: 0.6636363863945007\n",
      "(Epoch 3/10) Val loss: 0.05086671933531761, Val accuracy: 0.6323863863945007\n",
      "(Epoch 3/10) Current best val acc: 0.8045454621315002\n",
      "\n",
      "\n",
      "(Epoch 4/10) Time: 48s\n",
      "(Epoch 4/10) Average train loss: 0.02801209690895947, Average train accuracy: 0.6145455241203308\n",
      "(Epoch 4/10) Val loss: 0.04963979125022888, Val accuracy: 0.6511363983154297\n",
      "(Epoch 4/10) Current best val acc: 0.8045454621315002\n",
      "\n",
      "\n",
      "(Epoch 5/10) Time: 49s\n",
      "(Epoch 5/10) Average train loss: 0.027996283959258683, Average train accuracy: 0.6090909242630005\n",
      "(Epoch 5/10) Val loss: 0.047736719250679016, Val accuracy: 0.6698863506317139\n",
      "(Epoch 5/10) Current best val acc: 0.8045454621315002\n",
      "\n",
      "\n",
      "(Epoch 6/10) Time: 48s\n",
      "(Epoch 6/10) Average train loss: 0.025964904427528378, Average train accuracy: 0.7229545712471008\n",
      "(Epoch 6/10) Val loss: 0.04360480234026909, Val accuracy: 0.7278409004211426\n",
      "(Epoch 6/10) Current best val acc: 0.8045454621315002\n",
      "\n",
      "\n",
      "Prev Best Val Acc: 0.8045454621315002 < Cur Val Acc: 0.8125\n",
      "Saving the new best model...\n",
      "Finished saving model\n",
      "\n",
      "\n",
      "(Epoch 7/10) Time: 50s\n",
      "(Epoch 7/10) Average train loss: 0.022776095961982552, Average train accuracy: 0.7136363983154297\n",
      "(Epoch 7/10) Val loss: 0.03940095379948616, Val accuracy: 0.8125\n",
      "(Epoch 7/10) Current best val acc: 0.8125\n",
      "\n",
      "\n",
      "(Epoch 8/10) Time: 47s\n",
      "(Epoch 8/10) Average train loss: 0.02419046304442666, Average train accuracy: 0.692727267742157\n",
      "(Epoch 8/10) Val loss: 0.037719160318374634, Val accuracy: 0.7073863744735718\n",
      "(Epoch 8/10) Current best val acc: 0.8125\n",
      "\n",
      "\n",
      "(Epoch 9/10) Time: 50s\n",
      "(Epoch 9/10) Average train loss: 0.019090176753022454, Average train accuracy: 0.7593182325363159\n",
      "(Epoch 9/10) Val loss: 0.03791441768407822, Val accuracy: 0.6744318008422852\n",
      "(Epoch 9/10) Current best val acc: 0.8125\n",
      "\n",
      "\n",
      "(Epoch 10/10) Time: 48s\n",
      "(Epoch 10/10) Average train loss: 0.021660559407689357, Average train accuracy: 0.7147727012634277\n",
      "(Epoch 10/10) Val loss: 0.03745691478252411, Val accuracy: 0.686931848526001\n",
      "(Epoch 10/10) Current best val acc: 0.8125\n",
      "\n",
      "\n",
      "Best model (val loss: 0.03940095379948616, val accuracy: 0.8125) has been saved to /scratch1/01596/jrduncan/scipe_designsafe/image_classification_cnn/output_model/best_model.pt\n",
      "\n",
      "Cleaning up the distributed environment...\n",
      "Distributed environment has been properly closed\n"
     ]
    }
   ],
   "source": [
    "# \n",
    "! torchrun --nproc_per_node 4 torch-train-3rd-distributed.py"
   ]
  },
  {
   "cell_type": "code",
   "execution_count": 2,
   "id": "28d9c735",
   "metadata": {},
   "outputs": [],
   "source": [
    "# for pytroch versions < 1.10.0\n",
    "\n",
    "#! python -m torch.distributed.launch --nproc_per_node=4 torch-train-3rd-distributed.py"
   ]
  },
  {
   "cell_type": "code",
   "execution_count": null,
   "id": "worse-organization",
   "metadata": {},
   "outputs": [],
   "source": []
  }
 ],
 "metadata": {
  "kernelspec": {
   "display_name": "AI-ML Python",
   "language": "python",
   "name": "ai-python"
  },
  "language_info": {
   "codemirror_mode": {
    "name": "ipython",
    "version": 3
   },
   "file_extension": ".py",
   "mimetype": "text/x-python",
   "name": "python",
   "nbconvert_exporter": "python",
   "pygments_lexer": "ipython3",
   "version": "3.10.12"
  }
 },
 "nbformat": 4,
 "nbformat_minor": 5
}
